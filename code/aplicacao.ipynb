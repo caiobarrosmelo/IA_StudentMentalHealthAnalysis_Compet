{
 "cells": [
  {
   "cell_type": "code",
   "execution_count": 21,
   "id": "bda04328",
   "metadata": {},
   "outputs": [],
   "source": [
    "import pickle\n",
    "import pandas as pd\n",
    "\n",
    "# Carregando o modelo\n",
    "with open('../model/modelo_treinado.pkl', 'rb') as f:\n",
    "    modelo = pickle.load(f)\n",
    "\n",
    "# Colunas utilizadas no treinamento\n",
    "colunas_modelo = ['Genero', 'Idade', 'Nivel_Academico', 'Tempo_Tela_h_dia',\n",
    "                   'Duracao_Sono_h_dia','Atividade_Fisica_h_semana', \n",
    "                   'Ansiedade_Antes_Provas', 'Mudanca_Desempenho_Academico']"
   ]
  },
  {
   "cell_type": "code",
   "execution_count": null,
   "id": "0ed289e1",
   "metadata": {},
   "outputs": [],
   "source": [
    "# Mapeamentos baseados no tratamento com LabelEncoder\n",
    "mapeamento_genero = {'Female': 0, 'Male': 1, 'Other': 2}\n",
    "mapeamento_genero_interface = {'Feminino': 0, 'Masculino': 1, 'Outro': 2}\n",
    "\n",
    "mapeamento_nivel = {\n",
    "    'BA': 0, 'BSc': 1, 'BTech': 2,\n",
    "    'Class 10': 3, 'Class 11': 4, 'Class 12': 5,\n",
    "    'Class 8': 6, 'Class 9': 7,\n",
    "    'MA': 8, 'MSc': 9, 'MTech': 10\n",
    "}\n",
    "mapeamento_nivel_interface = {\n",
    "    'Graduação - BA': 0, 'Graduação - BSc': 1, 'Graduação - BTech': 2,\n",
    "    'Ensino Fundamental (8ª série)': 6, 'Ensino Fundamental (9ª série)': 7,\n",
    "    'Ensino Médio (1º ano)': 4, 'Ensino Médio (2º ano)': 5, 'Ensino Médio (3º ano)': 3,\n",
    "    'Pós - MA': 8, 'Pós - MSc': 9, 'Pós - MTech': 10\n",
    "}\n",
    "\n",
    "mapeamento_ansiedade = {'Sim': 1, 'Não': 0}\n",
    "mapeamento_desempenho = {'Piorou': 0, 'Melhorou': 1, 'Manteve-se': 2}\n",
    "mapeamento_saida = {0: 'Alto', 1: 'Baixo', 2: 'Médio'}\n",
    "\n",
    "# Função de predição\n",
    "def nivel_estresse(Genero, Idade, Nivel_Academico, Tempo_Tela_h_dia,\n",
    "                   Duracao_Sono_h_dia, Atividade_Fisica_h_semana,\n",
    "                   Ansiedade_Antes_Provas, Mudanca_Desempenho_Academico):\n",
    "\n",
    "    if Ansiedade_Antes_Provas not in mapeamento_ansiedade:\n",
    "        return \"Erro: selecione se sente ansiedade antes de provas.\"\n",
    "\n",
    "    if Mudanca_Desempenho_Academico not in mapeamento_desempenho:\n",
    "        return \"Erro: selecione a mudança no desempenho acadêmico.\"\n",
    "    \n",
    "    dados = pd.DataFrame([[\n",
    "        mapeamento_genero_interface[Genero],\n",
    "        Idade,\n",
    "        mapeamento_nivel_interface[Nivel_Academico],\n",
    "        Tempo_Tela_h_dia,\n",
    "        Duracao_Sono_h_dia,\n",
    "        Atividade_Fisica_h_semana,\n",
    "        mapeamento_ansiedade[Ansiedade_Antes_Provas],\n",
    "        mapeamento_desempenho[Mudanca_Desempenho_Academico]\n",
    "    ]], columns=colunas_modelo)\n",
    "\n",
    "    previsao = modelo.predict(dados)[0]\n",
    "    return f\"Nível de estresse previsto: {mapeamento_saida[previsao]}\""
   ]
  },
  {
   "cell_type": "code",
   "execution_count": 23,
   "id": "87c7f20f",
   "metadata": {},
   "outputs": [
    {
     "name": "stdout",
     "output_type": "stream",
     "text": [
      "* Running on local URL:  http://127.0.0.1:7868\n",
      "\n",
      "Could not create share link. Missing file: C:\\Users\\caiob\\.cache\\huggingface\\gradio\\frpc\\frpc_windows_amd64_v0.3. \n",
      "\n",
      "Please check your internet connection. This can happen if your antivirus software blocks the download of this file. You can install manually by following these steps: \n",
      "\n",
      "1. Download this file: https://cdn-media.huggingface.co/frpc-gradio-0.3/frpc_windows_amd64.exe\n",
      "2. Rename the downloaded file to: frpc_windows_amd64_v0.3\n",
      "3. Move the file to this location: C:\\Users\\caiob\\.cache\\huggingface\\gradio\\frpc\n"
     ]
    },
    {
     "data": {
      "text/html": [
       "<div><iframe src=\"http://127.0.0.1:7868/\" width=\"100%\" height=\"500\" allow=\"autoplay; camera; microphone; clipboard-read; clipboard-write;\" frameborder=\"0\" allowfullscreen></iframe></div>"
      ],
      "text/plain": [
       "<IPython.core.display.HTML object>"
      ]
     },
     "metadata": {},
     "output_type": "display_data"
    },
    {
     "data": {
      "text/plain": []
     },
     "execution_count": 23,
     "metadata": {},
     "output_type": "execute_result"
    }
   ],
   "source": [
    "import gradio as gr # Importa a biblioteca Gradio para criar interfaces gráficas simples em Python\n",
    "\n",
    "# --- Interface Gradio ---\n",
    "opcoes_genero = list(mapeamento_genero_interface.keys())\n",
    "opcoes_nivel = list(mapeamento_nivel_interface.keys())\n",
    "opcoes_ansiedade = ['Sim', 'Não']\n",
    "opcoes_desempenho = ['Melhorou', 'Piorou', 'Manteve-se']\n",
    "Ansiedade = gr.Radio(opcoes_ansiedade, label=\"Sente ansiedade antes de provas?\", value=\"Não\")\n",
    "\n",
    "\n",
    "with gr.Blocks() as app:\n",
    "    gr.Markdown(\"### Previsão de Nível de Estresse\")\n",
    "\n",
    "    with gr.Row():\n",
    "        Genero = gr.Dropdown(opcoes_genero, label=\"Gênero\")\n",
    "        Idade = gr.Number(label=\"Idade\", value=18)\n",
    "\n",
    "    with gr.Row():\n",
    "        Nivel_Academico = gr.Dropdown(opcoes_nivel, label=\"Nível Acadêmico\")\n",
    "        Tempo_Tela = gr.Slider(0, 16, step=0.5, label=\"Tempo de tela (horas/dia)\")\n",
    "\n",
    "    with gr.Row():\n",
    "        Sono = gr.Slider(0, 12, step=0.5, label=\"Duração do sono (horas/dia)\")\n",
    "        Atividade = gr.Slider(0, 20, step=1, label=\"Atividade física (horas/semana)\")\n",
    "\n",
    "    with gr.Row():\n",
    "        Ansiedade = gr.Radio(opcoes_ansiedade, label=\"Sente ansiedade antes de provas?\")\n",
    "        Desempenho = gr.Dropdown(opcoes_desempenho, label=\"Mudança no desempenho acadêmico\")\n",
    "\n",
    "    botao = gr.Button(\"Prever\")\n",
    "    saida = gr.Label(label=\"Resultado\")\n",
    "\n",
    "    botao.click(\n",
    "        fn=nivel_estresse,\n",
    "        inputs=[Genero, Idade, Nivel_Academico, Tempo_Tela, Sono, Atividade, Ansiedade, Desempenho],\n",
    "        outputs=saida\n",
    "    )\n",
    "\n",
    "app.launch(share=True)"
   ]
  },
  {
   "cell_type": "code",
   "execution_count": 25,
   "id": "8377baed",
   "metadata": {},
   "outputs": [
    {
     "name": "stdout",
     "output_type": "stream",
     "text": [
      "Nivel_Estresse\n",
      "2    492\n",
      "1    327\n",
      "0    181\n",
      "Name: count, dtype: int64\n"
     ]
    }
   ],
   "source": [
    "import pandas as pd\n",
    "\n",
    "# Caminho para o local do arquivo de dados\n",
    "df = pd.read_csv('../datasets/dados_modificados.csv')\n",
    "\n",
    "# Distribuição dos dados\n",
    "print(df['Nivel_Estresse'].value_counts())"
   ]
  },
  {
   "cell_type": "markdown",
   "id": "f8fde175",
   "metadata": {},
   "source": [
    "O modelo só retorna o nível de estresse médio."
   ]
  }
 ],
 "metadata": {
  "kernelspec": {
   "display_name": "Python 3",
   "language": "python",
   "name": "python3"
  },
  "language_info": {
   "codemirror_mode": {
    "name": "ipython",
    "version": 3
   },
   "file_extension": ".py",
   "mimetype": "text/x-python",
   "name": "python",
   "nbconvert_exporter": "python",
   "pygments_lexer": "ipython3",
   "version": "3.12.10"
  }
 },
 "nbformat": 4,
 "nbformat_minor": 5
}
