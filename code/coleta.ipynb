{
 "cells": [
  {
   "cell_type": "markdown",
   "id": "965384da",
   "metadata": {},
   "source": [
    "# Sistema de predição com base em técnicas de Aprendizado de Máquina"
   ]
  },
  {
   "cell_type": "markdown",
   "id": "1df01c6a",
   "metadata": {},
   "source": [
    "## 1. Coleta de Dados"
   ]
  },
  {
   "cell_type": "markdown",
   "id": "3b11c6a8",
   "metadata": {},
   "source": [
    "### Os dados foram obtidos pela plataforma [Kaggle](https://www.kaggle.com/datasets/utkarshsharma11r/student-mental-health-analysis).\n",
    "\n",
    "Este conjunto de dados reúne respostas de estudantes relacionadas à sua saúde mental durante o período de ensino remoto. As informações foram coletadas por meio de questionários e abordam diversos aspectos psicológicos e comportamentais impactados pela educação a distância. \n",
    "\n",
    "Dados inclusos: dados demográficos, tempo de tela, duração do sono, prática de atividade física, nível de estresse, ansiedade pré-prova e percepção sobre o desempenho acadêmico.\n",
    "\n",
    "Objetivo: **Classificação (predição) do nível de estresse dos estudantes com base em variáveis psico-comportamentais.**"
   ]
  },
  {
   "cell_type": "code",
   "execution_count": 6,
   "id": "b31fdb23",
   "metadata": {},
   "outputs": [
    {
     "data": {
      "application/vnd.microsoft.datawrangler.viewer.v0+json": {
       "columns": [
        {
         "name": "index",
         "rawType": "int64",
         "type": "integer"
        },
        {
         "name": "Name",
         "rawType": "object",
         "type": "string"
        },
        {
         "name": "Gender",
         "rawType": "object",
         "type": "string"
        },
        {
         "name": "Age",
         "rawType": "int64",
         "type": "integer"
        },
        {
         "name": "Education Level",
         "rawType": "object",
         "type": "string"
        },
        {
         "name": "Screen Time (hrs/day)",
         "rawType": "float64",
         "type": "float"
        },
        {
         "name": "Sleep Duration (hrs)",
         "rawType": "float64",
         "type": "float"
        },
        {
         "name": "Physical Activity (hrs/week)",
         "rawType": "float64",
         "type": "float"
        },
        {
         "name": "Stress Level",
         "rawType": "object",
         "type": "string"
        },
        {
         "name": "Anxious Before Exams",
         "rawType": "object",
         "type": "string"
        },
        {
         "name": "Academic Performance Change",
         "rawType": "object",
         "type": "string"
        }
       ],
       "conversionMethod": "pd.DataFrame",
       "ref": "26c7837f-200d-4b82-a2b4-97446aa8d3fd",
       "rows": [
        [
         "0",
         "Aarav",
         "Male",
         "15",
         "Class 8",
         "7.1",
         "8.9",
         "9.3",
         "Medium",
         "No",
         "Same"
        ],
        [
         "1",
         "Meera",
         "Female",
         "25",
         "MSc",
         "3.3",
         "5.0",
         "0.2",
         "Medium",
         "No",
         "Same"
        ],
        [
         "2",
         "Ishaan",
         "Male",
         "20",
         "BTech",
         "9.5",
         "5.4",
         "6.2",
         "Medium",
         "No",
         "Same"
        ],
        [
         "3",
         "Aditya",
         "Male",
         "20",
         "BA",
         "10.8",
         "5.6",
         "5.5",
         "High",
         "Yes",
         "Same"
        ],
        [
         "4",
         "Anika",
         "Female",
         "17",
         "Class 11",
         "2.8",
         "5.4",
         "3.1",
         "Medium",
         "Yes",
         "Same"
        ]
       ],
       "shape": {
        "columns": 10,
        "rows": 5
       }
      },
      "text/html": [
       "<div>\n",
       "<style scoped>\n",
       "    .dataframe tbody tr th:only-of-type {\n",
       "        vertical-align: middle;\n",
       "    }\n",
       "\n",
       "    .dataframe tbody tr th {\n",
       "        vertical-align: top;\n",
       "    }\n",
       "\n",
       "    .dataframe thead th {\n",
       "        text-align: right;\n",
       "    }\n",
       "</style>\n",
       "<table border=\"1\" class=\"dataframe\">\n",
       "  <thead>\n",
       "    <tr style=\"text-align: right;\">\n",
       "      <th></th>\n",
       "      <th>Name</th>\n",
       "      <th>Gender</th>\n",
       "      <th>Age</th>\n",
       "      <th>Education Level</th>\n",
       "      <th>Screen Time (hrs/day)</th>\n",
       "      <th>Sleep Duration (hrs)</th>\n",
       "      <th>Physical Activity (hrs/week)</th>\n",
       "      <th>Stress Level</th>\n",
       "      <th>Anxious Before Exams</th>\n",
       "      <th>Academic Performance Change</th>\n",
       "    </tr>\n",
       "  </thead>\n",
       "  <tbody>\n",
       "    <tr>\n",
       "      <th>0</th>\n",
       "      <td>Aarav</td>\n",
       "      <td>Male</td>\n",
       "      <td>15</td>\n",
       "      <td>Class 8</td>\n",
       "      <td>7.1</td>\n",
       "      <td>8.9</td>\n",
       "      <td>9.3</td>\n",
       "      <td>Medium</td>\n",
       "      <td>No</td>\n",
       "      <td>Same</td>\n",
       "    </tr>\n",
       "    <tr>\n",
       "      <th>1</th>\n",
       "      <td>Meera</td>\n",
       "      <td>Female</td>\n",
       "      <td>25</td>\n",
       "      <td>MSc</td>\n",
       "      <td>3.3</td>\n",
       "      <td>5.0</td>\n",
       "      <td>0.2</td>\n",
       "      <td>Medium</td>\n",
       "      <td>No</td>\n",
       "      <td>Same</td>\n",
       "    </tr>\n",
       "    <tr>\n",
       "      <th>2</th>\n",
       "      <td>Ishaan</td>\n",
       "      <td>Male</td>\n",
       "      <td>20</td>\n",
       "      <td>BTech</td>\n",
       "      <td>9.5</td>\n",
       "      <td>5.4</td>\n",
       "      <td>6.2</td>\n",
       "      <td>Medium</td>\n",
       "      <td>No</td>\n",
       "      <td>Same</td>\n",
       "    </tr>\n",
       "    <tr>\n",
       "      <th>3</th>\n",
       "      <td>Aditya</td>\n",
       "      <td>Male</td>\n",
       "      <td>20</td>\n",
       "      <td>BA</td>\n",
       "      <td>10.8</td>\n",
       "      <td>5.6</td>\n",
       "      <td>5.5</td>\n",
       "      <td>High</td>\n",
       "      <td>Yes</td>\n",
       "      <td>Same</td>\n",
       "    </tr>\n",
       "    <tr>\n",
       "      <th>4</th>\n",
       "      <td>Anika</td>\n",
       "      <td>Female</td>\n",
       "      <td>17</td>\n",
       "      <td>Class 11</td>\n",
       "      <td>2.8</td>\n",
       "      <td>5.4</td>\n",
       "      <td>3.1</td>\n",
       "      <td>Medium</td>\n",
       "      <td>Yes</td>\n",
       "      <td>Same</td>\n",
       "    </tr>\n",
       "  </tbody>\n",
       "</table>\n",
       "</div>"
      ],
      "text/plain": [
       "     Name  Gender  Age Education Level  Screen Time (hrs/day)  \\\n",
       "0   Aarav    Male   15         Class 8                    7.1   \n",
       "1   Meera  Female   25             MSc                    3.3   \n",
       "2  Ishaan    Male   20           BTech                    9.5   \n",
       "3  Aditya    Male   20              BA                   10.8   \n",
       "4   Anika  Female   17        Class 11                    2.8   \n",
       "\n",
       "   Sleep Duration (hrs)  Physical Activity (hrs/week) Stress Level  \\\n",
       "0                   8.9                           9.3       Medium   \n",
       "1                   5.0                           0.2       Medium   \n",
       "2                   5.4                           6.2       Medium   \n",
       "3                   5.6                           5.5         High   \n",
       "4                   5.4                           3.1       Medium   \n",
       "\n",
       "  Anxious Before Exams Academic Performance Change  \n",
       "0                   No                        Same  \n",
       "1                   No                        Same  \n",
       "2                   No                        Same  \n",
       "3                  Yes                        Same  \n",
       "4                  Yes                        Same  "
      ]
     },
     "execution_count": 6,
     "metadata": {},
     "output_type": "execute_result"
    }
   ],
   "source": [
    "import pandas as pd\n",
    "\n",
    "#Leitura do arquivo CSV\n",
    "df = pd.read_csv('../datasets/dados_origem.csv')\n",
    "\n",
    "# Visualização dos dados\n",
    "df.head()"
   ]
  },
  {
   "cell_type": "markdown",
   "id": "d0f7049b",
   "metadata": {},
   "source": [
    "Com base na descrição fornecida pelo autor, as colunas serão renomeadas para facilitação do entendimento."
   ]
  },
  {
   "cell_type": "markdown",
   "id": "0f351a3e",
   "metadata": {},
   "source": [
    "1. Name: Nome do estudante\n",
    "2. Gender: Gênero do respondente (Masculino/Feminino)\n",
    "3. Age: Idade em anos\n",
    "4. Education Level: Nível acadêmico (ex.: 8ª série, BTech, Mestrado)\n",
    "5. Screen Time (hrs/day): Tempo médio de tela por dia durante o ensino online\n",
    "6. Sleep Duration (hrs): Duração média de sono por dia\n",
    "7. Physical Activity (hrs/week): Tempo semanal de atividade física\n",
    "8. Stress Level: Nível de estresse relatado (Baixo, Médio, Alto)\n",
    "9. Anxious Before Exams: Se o estudante se sente ansioso antes das provas (Sim/Não)\n",
    "10. Academic Performance Change: Mudança percebida no desempenho acadêmico"
   ]
  },
  {
   "cell_type": "code",
   "execution_count": 7,
   "id": "0da4dfa1",
   "metadata": {},
   "outputs": [
    {
     "data": {
      "application/vnd.microsoft.datawrangler.viewer.v0+json": {
       "columns": [
        {
         "name": "index",
         "rawType": "int64",
         "type": "integer"
        },
        {
         "name": "Nome_Estudante",
         "rawType": "object",
         "type": "string"
        },
        {
         "name": "Genero",
         "rawType": "object",
         "type": "string"
        },
        {
         "name": "Idade",
         "rawType": "int64",
         "type": "integer"
        },
        {
         "name": "Nivel_Academico",
         "rawType": "object",
         "type": "string"
        },
        {
         "name": "Tempo_Tela_h_dia",
         "rawType": "float64",
         "type": "float"
        },
        {
         "name": "Duracao_Sono_h_dia",
         "rawType": "float64",
         "type": "float"
        },
        {
         "name": "Atividade_Fisica_h_semana",
         "rawType": "float64",
         "type": "float"
        },
        {
         "name": "Nivel_Estresse",
         "rawType": "object",
         "type": "string"
        },
        {
         "name": "Ansiedade_Antes_Provas",
         "rawType": "object",
         "type": "string"
        },
        {
         "name": "Mudanca_Desempenho_Academico",
         "rawType": "object",
         "type": "string"
        }
       ],
       "conversionMethod": "pd.DataFrame",
       "ref": "260f69a9-be5f-417f-b998-1041b19125e0",
       "rows": [
        [
         "0",
         "Aarav",
         "Male",
         "15",
         "Class 8",
         "7.1",
         "8.9",
         "9.3",
         "Medium",
         "No",
         "Same"
        ],
        [
         "1",
         "Meera",
         "Female",
         "25",
         "MSc",
         "3.3",
         "5.0",
         "0.2",
         "Medium",
         "No",
         "Same"
        ],
        [
         "2",
         "Ishaan",
         "Male",
         "20",
         "BTech",
         "9.5",
         "5.4",
         "6.2",
         "Medium",
         "No",
         "Same"
        ],
        [
         "3",
         "Aditya",
         "Male",
         "20",
         "BA",
         "10.8",
         "5.6",
         "5.5",
         "High",
         "Yes",
         "Same"
        ],
        [
         "4",
         "Anika",
         "Female",
         "17",
         "Class 11",
         "2.8",
         "5.4",
         "3.1",
         "Medium",
         "Yes",
         "Same"
        ]
       ],
       "shape": {
        "columns": 10,
        "rows": 5
       }
      },
      "text/html": [
       "<div>\n",
       "<style scoped>\n",
       "    .dataframe tbody tr th:only-of-type {\n",
       "        vertical-align: middle;\n",
       "    }\n",
       "\n",
       "    .dataframe tbody tr th {\n",
       "        vertical-align: top;\n",
       "    }\n",
       "\n",
       "    .dataframe thead th {\n",
       "        text-align: right;\n",
       "    }\n",
       "</style>\n",
       "<table border=\"1\" class=\"dataframe\">\n",
       "  <thead>\n",
       "    <tr style=\"text-align: right;\">\n",
       "      <th></th>\n",
       "      <th>Nome_Estudante</th>\n",
       "      <th>Genero</th>\n",
       "      <th>Idade</th>\n",
       "      <th>Nivel_Academico</th>\n",
       "      <th>Tempo_Tela_h_dia</th>\n",
       "      <th>Duracao_Sono_h_dia</th>\n",
       "      <th>Atividade_Fisica_h_semana</th>\n",
       "      <th>Nivel_Estresse</th>\n",
       "      <th>Ansiedade_Antes_Provas</th>\n",
       "      <th>Mudanca_Desempenho_Academico</th>\n",
       "    </tr>\n",
       "  </thead>\n",
       "  <tbody>\n",
       "    <tr>\n",
       "      <th>0</th>\n",
       "      <td>Aarav</td>\n",
       "      <td>Male</td>\n",
       "      <td>15</td>\n",
       "      <td>Class 8</td>\n",
       "      <td>7.1</td>\n",
       "      <td>8.9</td>\n",
       "      <td>9.3</td>\n",
       "      <td>Medium</td>\n",
       "      <td>No</td>\n",
       "      <td>Same</td>\n",
       "    </tr>\n",
       "    <tr>\n",
       "      <th>1</th>\n",
       "      <td>Meera</td>\n",
       "      <td>Female</td>\n",
       "      <td>25</td>\n",
       "      <td>MSc</td>\n",
       "      <td>3.3</td>\n",
       "      <td>5.0</td>\n",
       "      <td>0.2</td>\n",
       "      <td>Medium</td>\n",
       "      <td>No</td>\n",
       "      <td>Same</td>\n",
       "    </tr>\n",
       "    <tr>\n",
       "      <th>2</th>\n",
       "      <td>Ishaan</td>\n",
       "      <td>Male</td>\n",
       "      <td>20</td>\n",
       "      <td>BTech</td>\n",
       "      <td>9.5</td>\n",
       "      <td>5.4</td>\n",
       "      <td>6.2</td>\n",
       "      <td>Medium</td>\n",
       "      <td>No</td>\n",
       "      <td>Same</td>\n",
       "    </tr>\n",
       "    <tr>\n",
       "      <th>3</th>\n",
       "      <td>Aditya</td>\n",
       "      <td>Male</td>\n",
       "      <td>20</td>\n",
       "      <td>BA</td>\n",
       "      <td>10.8</td>\n",
       "      <td>5.6</td>\n",
       "      <td>5.5</td>\n",
       "      <td>High</td>\n",
       "      <td>Yes</td>\n",
       "      <td>Same</td>\n",
       "    </tr>\n",
       "    <tr>\n",
       "      <th>4</th>\n",
       "      <td>Anika</td>\n",
       "      <td>Female</td>\n",
       "      <td>17</td>\n",
       "      <td>Class 11</td>\n",
       "      <td>2.8</td>\n",
       "      <td>5.4</td>\n",
       "      <td>3.1</td>\n",
       "      <td>Medium</td>\n",
       "      <td>Yes</td>\n",
       "      <td>Same</td>\n",
       "    </tr>\n",
       "  </tbody>\n",
       "</table>\n",
       "</div>"
      ],
      "text/plain": [
       "  Nome_Estudante  Genero  Idade Nivel_Academico  Tempo_Tela_h_dia  \\\n",
       "0          Aarav    Male     15         Class 8               7.1   \n",
       "1          Meera  Female     25             MSc               3.3   \n",
       "2         Ishaan    Male     20           BTech               9.5   \n",
       "3         Aditya    Male     20              BA              10.8   \n",
       "4          Anika  Female     17        Class 11               2.8   \n",
       "\n",
       "   Duracao_Sono_h_dia  Atividade_Fisica_h_semana Nivel_Estresse  \\\n",
       "0                 8.9                        9.3         Medium   \n",
       "1                 5.0                        0.2         Medium   \n",
       "2                 5.4                        6.2         Medium   \n",
       "3                 5.6                        5.5           High   \n",
       "4                 5.4                        3.1         Medium   \n",
       "\n",
       "  Ansiedade_Antes_Provas Mudanca_Desempenho_Academico  \n",
       "0                     No                         Same  \n",
       "1                     No                         Same  \n",
       "2                     No                         Same  \n",
       "3                    Yes                         Same  \n",
       "4                    Yes                         Same  "
      ]
     },
     "execution_count": 7,
     "metadata": {},
     "output_type": "execute_result"
    }
   ],
   "source": [
    "# Dicionário de mapeamento (inglês para português simplificado)\n",
    "mapeamento_colunas = {\n",
    "    'Name': 'Nome_Estudante',\n",
    "    'Gender': 'Genero',\n",
    "    'Age': 'Idade',\n",
    "    'Education Level': 'Nivel_Academico',\n",
    "    'Screen Time (hrs/day)': 'Tempo_Tela_h_dia',\n",
    "    'Sleep Duration (hrs)': 'Duracao_Sono_h_dia',\n",
    "    'Physical Activity (hrs/week)': 'Atividade_Fisica_h_semana',\n",
    "    'Stress Level': 'Nivel_Estresse',\n",
    "    'Anxious Before Exams': 'Ansiedade_Antes_Provas',\n",
    "    'Academic Performance Change': 'Mudanca_Desempenho_Academico'\n",
    "}\n",
    "\n",
    "# Renomear as colunas\n",
    "df = df.rename(columns=mapeamento_colunas)\n",
    "\n",
    "# Verificar o resultado\n",
    "df.head()"
   ]
  },
  {
   "cell_type": "markdown",
   "id": "44db14d0",
   "metadata": {},
   "source": [
    "Agora 1 variável será removida do estudo:  \n",
    "- Nome do estudante, pois não é relevante para a análise e pode ser anonimizado para preservar a privacidade dos participantes."
   ]
  },
  {
   "cell_type": "code",
   "execution_count": 8,
   "id": "cb240027",
   "metadata": {},
   "outputs": [
    {
     "data": {
      "application/vnd.microsoft.datawrangler.viewer.v0+json": {
       "columns": [
        {
         "name": "index",
         "rawType": "int64",
         "type": "integer"
        },
        {
         "name": "Genero",
         "rawType": "object",
         "type": "string"
        },
        {
         "name": "Idade",
         "rawType": "int64",
         "type": "integer"
        },
        {
         "name": "Nivel_Academico",
         "rawType": "object",
         "type": "string"
        },
        {
         "name": "Tempo_Tela_h_dia",
         "rawType": "float64",
         "type": "float"
        },
        {
         "name": "Duracao_Sono_h_dia",
         "rawType": "float64",
         "type": "float"
        },
        {
         "name": "Atividade_Fisica_h_semana",
         "rawType": "float64",
         "type": "float"
        },
        {
         "name": "Nivel_Estresse",
         "rawType": "object",
         "type": "string"
        },
        {
         "name": "Ansiedade_Antes_Provas",
         "rawType": "object",
         "type": "string"
        },
        {
         "name": "Mudanca_Desempenho_Academico",
         "rawType": "object",
         "type": "string"
        }
       ],
       "conversionMethod": "pd.DataFrame",
       "ref": "0dfc1fb8-57e1-492b-ab3a-007ae6653790",
       "rows": [
        [
         "0",
         "Male",
         "15",
         "Class 8",
         "7.1",
         "8.9",
         "9.3",
         "Medium",
         "No",
         "Same"
        ],
        [
         "1",
         "Female",
         "25",
         "MSc",
         "3.3",
         "5.0",
         "0.2",
         "Medium",
         "No",
         "Same"
        ],
        [
         "2",
         "Male",
         "20",
         "BTech",
         "9.5",
         "5.4",
         "6.2",
         "Medium",
         "No",
         "Same"
        ],
        [
         "3",
         "Male",
         "20",
         "BA",
         "10.8",
         "5.6",
         "5.5",
         "High",
         "Yes",
         "Same"
        ],
        [
         "4",
         "Female",
         "17",
         "Class 11",
         "2.8",
         "5.4",
         "3.1",
         "Medium",
         "Yes",
         "Same"
        ]
       ],
       "shape": {
        "columns": 9,
        "rows": 5
       }
      },
      "text/html": [
       "<div>\n",
       "<style scoped>\n",
       "    .dataframe tbody tr th:only-of-type {\n",
       "        vertical-align: middle;\n",
       "    }\n",
       "\n",
       "    .dataframe tbody tr th {\n",
       "        vertical-align: top;\n",
       "    }\n",
       "\n",
       "    .dataframe thead th {\n",
       "        text-align: right;\n",
       "    }\n",
       "</style>\n",
       "<table border=\"1\" class=\"dataframe\">\n",
       "  <thead>\n",
       "    <tr style=\"text-align: right;\">\n",
       "      <th></th>\n",
       "      <th>Genero</th>\n",
       "      <th>Idade</th>\n",
       "      <th>Nivel_Academico</th>\n",
       "      <th>Tempo_Tela_h_dia</th>\n",
       "      <th>Duracao_Sono_h_dia</th>\n",
       "      <th>Atividade_Fisica_h_semana</th>\n",
       "      <th>Nivel_Estresse</th>\n",
       "      <th>Ansiedade_Antes_Provas</th>\n",
       "      <th>Mudanca_Desempenho_Academico</th>\n",
       "    </tr>\n",
       "  </thead>\n",
       "  <tbody>\n",
       "    <tr>\n",
       "      <th>0</th>\n",
       "      <td>Male</td>\n",
       "      <td>15</td>\n",
       "      <td>Class 8</td>\n",
       "      <td>7.1</td>\n",
       "      <td>8.9</td>\n",
       "      <td>9.3</td>\n",
       "      <td>Medium</td>\n",
       "      <td>No</td>\n",
       "      <td>Same</td>\n",
       "    </tr>\n",
       "    <tr>\n",
       "      <th>1</th>\n",
       "      <td>Female</td>\n",
       "      <td>25</td>\n",
       "      <td>MSc</td>\n",
       "      <td>3.3</td>\n",
       "      <td>5.0</td>\n",
       "      <td>0.2</td>\n",
       "      <td>Medium</td>\n",
       "      <td>No</td>\n",
       "      <td>Same</td>\n",
       "    </tr>\n",
       "    <tr>\n",
       "      <th>2</th>\n",
       "      <td>Male</td>\n",
       "      <td>20</td>\n",
       "      <td>BTech</td>\n",
       "      <td>9.5</td>\n",
       "      <td>5.4</td>\n",
       "      <td>6.2</td>\n",
       "      <td>Medium</td>\n",
       "      <td>No</td>\n",
       "      <td>Same</td>\n",
       "    </tr>\n",
       "    <tr>\n",
       "      <th>3</th>\n",
       "      <td>Male</td>\n",
       "      <td>20</td>\n",
       "      <td>BA</td>\n",
       "      <td>10.8</td>\n",
       "      <td>5.6</td>\n",
       "      <td>5.5</td>\n",
       "      <td>High</td>\n",
       "      <td>Yes</td>\n",
       "      <td>Same</td>\n",
       "    </tr>\n",
       "    <tr>\n",
       "      <th>4</th>\n",
       "      <td>Female</td>\n",
       "      <td>17</td>\n",
       "      <td>Class 11</td>\n",
       "      <td>2.8</td>\n",
       "      <td>5.4</td>\n",
       "      <td>3.1</td>\n",
       "      <td>Medium</td>\n",
       "      <td>Yes</td>\n",
       "      <td>Same</td>\n",
       "    </tr>\n",
       "  </tbody>\n",
       "</table>\n",
       "</div>"
      ],
      "text/plain": [
       "   Genero  Idade Nivel_Academico  Tempo_Tela_h_dia  Duracao_Sono_h_dia  \\\n",
       "0    Male     15         Class 8               7.1                 8.9   \n",
       "1  Female     25             MSc               3.3                 5.0   \n",
       "2    Male     20           BTech               9.5                 5.4   \n",
       "3    Male     20              BA              10.8                 5.6   \n",
       "4  Female     17        Class 11               2.8                 5.4   \n",
       "\n",
       "   Atividade_Fisica_h_semana Nivel_Estresse Ansiedade_Antes_Provas  \\\n",
       "0                        9.3         Medium                     No   \n",
       "1                        0.2         Medium                     No   \n",
       "2                        6.2         Medium                     No   \n",
       "3                        5.5           High                    Yes   \n",
       "4                        3.1         Medium                    Yes   \n",
       "\n",
       "  Mudanca_Desempenho_Academico  \n",
       "0                         Same  \n",
       "1                         Same  \n",
       "2                         Same  \n",
       "3                         Same  \n",
       "4                         Same  "
      ]
     },
     "execution_count": 8,
     "metadata": {},
     "output_type": "execute_result"
    }
   ],
   "source": [
    "# Remover coluna desnecessária\n",
    "df = df.drop(columns=['Nome_Estudante'])\n",
    "# Verificar o resultado\n",
    "df.head()"
   ]
  },
  {
   "cell_type": "markdown",
   "id": "52a0a404",
   "metadata": {},
   "source": [
    "## 2. Análises do conjunto de dados"
   ]
  },
  {
   "cell_type": "markdown",
   "id": "8f44c593",
   "metadata": {},
   "source": [
    "Há dados faltantes na base de dados?"
   ]
  },
  {
   "cell_type": "code",
   "execution_count": 9,
   "id": "84da7479",
   "metadata": {},
   "outputs": [
    {
     "name": "stdout",
     "output_type": "stream",
     "text": [
      "Dados faltantes por coluna:\n",
      "Genero                          0\n",
      "Idade                           0\n",
      "Nivel_Academico                 0\n",
      "Tempo_Tela_h_dia                0\n",
      "Duracao_Sono_h_dia              0\n",
      "Atividade_Fisica_h_semana       0\n",
      "Nivel_Estresse                  0\n",
      "Ansiedade_Antes_Provas          0\n",
      "Mudanca_Desempenho_Academico    0\n",
      "dtype: int64\n"
     ]
    }
   ],
   "source": [
    "dados_faltantes = df.isnull().sum()\n",
    "\n",
    "# Verificar se há dados faltantes\n",
    "print(\"Dados faltantes por coluna:\")\n",
    "print(dados_faltantes)"
   ]
  },
  {
   "cell_type": "code",
   "execution_count": 10,
   "id": "ddd86177",
   "metadata": {},
   "outputs": [
    {
     "name": "stdout",
     "output_type": "stream",
     "text": [
      "<class 'pandas.core.frame.DataFrame'>\n",
      "RangeIndex: 1000 entries, 0 to 999\n",
      "Data columns (total 9 columns):\n",
      " #   Column                        Non-Null Count  Dtype  \n",
      "---  ------                        --------------  -----  \n",
      " 0   Genero                        1000 non-null   object \n",
      " 1   Idade                         1000 non-null   int64  \n",
      " 2   Nivel_Academico               1000 non-null   object \n",
      " 3   Tempo_Tela_h_dia              1000 non-null   float64\n",
      " 4   Duracao_Sono_h_dia            1000 non-null   float64\n",
      " 5   Atividade_Fisica_h_semana     1000 non-null   float64\n",
      " 6   Nivel_Estresse                1000 non-null   object \n",
      " 7   Ansiedade_Antes_Provas        1000 non-null   object \n",
      " 8   Mudanca_Desempenho_Academico  1000 non-null   object \n",
      "dtypes: float64(3), int64(1), object(5)\n",
      "memory usage: 70.4+ KB\n"
     ]
    }
   ],
   "source": [
    "#É possível verificar o tipo de dado de cada coluna\n",
    "df.info()"
   ]
  },
  {
   "cell_type": "markdown",
   "id": "429583cd",
   "metadata": {},
   "source": [
    "**Dicionário de Siglas para o Nível Acadêmico (Education Level)**\n",
    "\n",
    "No conjunto de dados, a coluna **Education Level** contém siglas que representam diferentes níveis de formação acadêmica dos estudantes. Para facilitar a interpretação e análise dos dados, utilizamos o seguinte dicionário para mapear essas siglas para seus significados completos:\n",
    "\n",
    "| Sigla        | Significado                                  |\n",
    "|--------------|---------------------------------------------|\n",
    "| Class 8      | 8ª série / Ensino Fundamental II            |\n",
    "| Class 9      | 9ª série / Ensino Fundamental II            |\n",
    "| Class 10     | 10ª série / Ensino Médio                     |\n",
    "| Class 11     | 11ª série / Ensino Médio                     |\n",
    "| Class 12     | 12ª série / Ensino Médio                     |\n",
    "| BTech        | Bacharelado em Tecnologia / Graduação       |\n",
    "| BSc          | Bacharelado em Ciências / Graduação          |\n",
    "| MSc          | Mestrado em Ciências                         |\n",
    "| PhD          | Doutorado                                    |\n",
    "| Diploma      | Diploma Técnico ou Profissionalizante       |\n",
    "| High School  | Ensino Médio                                 |\n",
    "| Undergraduate| Graduação                                    |\n",
    "| Postgraduate | Pós-Graduação                                |\n",
    "\n",
    "Esse mapeamento ajuda a entender melhor os dados e a categorizar corretamente os níveis acadêmicos durante a análise exploratória e a modelagem preditiva."
   ]
  },
  {
   "cell_type": "code",
   "execution_count": 11,
   "id": "d57f1828",
   "metadata": {},
   "outputs": [],
   "source": [
    "# Dicionário de siglas para Education Level\n",
    "education_level_siglas = {\n",
    "    'Class 8': '8ª série / Ensino Fundamental II',\n",
    "    'Class 9': '9ª série / Ensino Fundamental II',\n",
    "    'Class 10': '10ª série / Ensino Médio',\n",
    "    'Class 11': '11ª série / Ensino Médio',\n",
    "    'Class 12': '12ª série / Ensino Médio',\n",
    "    'BTech': 'Bacharelado em Tecnologia / Graduação',\n",
    "    'BSc': 'Bacharelado em Ciências / Graduação',\n",
    "    'MSc': 'Mestrado em Ciências',\n",
    "    'PhD': 'Doutorado',\n",
    "    'Diploma': 'Diploma Técnico ou Profissionalizante',\n",
    "    'High School': 'Ensino Médio',\n",
    "    'Undergraduate': 'Graduação',\n",
    "    'Postgraduate': 'Pós-Graduação'\n",
    "}\n"
   ]
  },
  {
   "cell_type": "markdown",
   "id": "afb2227e",
   "metadata": {},
   "source": [
    "Qual a distribuição de estudantes de acordo com o nível educacional?"
   ]
  },
  {
   "cell_type": "code",
   "execution_count": 13,
   "id": "38080301",
   "metadata": {},
   "outputs": [
    {
     "data": {
      "text/plain": [
       "Nivel_Academico\n",
       "MTech       143\n",
       "MSc         138\n",
       "MA          129\n",
       "Class 11     88\n",
       "Class 9      87\n",
       "Class 10     87\n",
       "BSc          85\n",
       "BTech        84\n",
       "BA           62\n",
       "Class 8      50\n",
       "Class 12     47\n",
       "Name: count, dtype: int64"
      ]
     },
     "execution_count": 13,
     "metadata": {},
     "output_type": "execute_result"
    }
   ],
   "source": [
    "df['Nivel_Academico'].value_counts()"
   ]
  },
  {
   "cell_type": "markdown",
   "id": "59c03082",
   "metadata": {},
   "source": [
    "Qual a distribuição de estudantes por gênero?"
   ]
  },
  {
   "cell_type": "code",
   "execution_count": 14,
   "id": "a186a3ff",
   "metadata": {},
   "outputs": [
    {
     "data": {
      "text/plain": [
       "Genero\n",
       "Male      475\n",
       "Female    475\n",
       "Other      50\n",
       "Name: count, dtype: int64"
      ]
     },
     "execution_count": 14,
     "metadata": {},
     "output_type": "execute_result"
    }
   ],
   "source": [
    "df['Genero'].value_counts() "
   ]
  },
  {
   "cell_type": "markdown",
   "id": "5a3e3323",
   "metadata": {},
   "source": [
    "Qual a faixa etária mais comum entre os estudantes?"
   ]
  },
  {
   "cell_type": "code",
   "execution_count": 15,
   "id": "aac4a13b",
   "metadata": {},
   "outputs": [
    {
     "data": {
      "text/plain": [
       "Idade\n",
       "15    94\n",
       "17    92\n",
       "23    91\n",
       "21    89\n",
       "16    88\n",
       "20    87\n",
       "19    82\n",
       "26    78\n",
       "22    77\n",
       "25    76\n",
       "24    75\n",
       "18    71\n",
       "Name: count, dtype: int64"
      ]
     },
     "execution_count": 15,
     "metadata": {},
     "output_type": "execute_result"
    }
   ],
   "source": [
    "df['Idade'].value_counts()"
   ]
  },
  {
   "cell_type": "markdown",
   "id": "5dafeea0",
   "metadata": {},
   "source": [
    "Qual a média e distribuição do tempo médio de sono diário dos estudantes?"
   ]
  },
  {
   "cell_type": "code",
   "execution_count": 19,
   "id": "a2df35f4",
   "metadata": {},
   "outputs": [
    {
     "data": {
      "text/plain": [
       "count    1000.000000\n",
       "mean        6.450800\n",
       "std         1.466407\n",
       "min         4.000000\n",
       "25%         5.100000\n",
       "50%         6.500000\n",
       "75%         7.700000\n",
       "max         9.000000\n",
       "Name: Duracao_Sono_h_dia, dtype: float64"
      ]
     },
     "execution_count": 19,
     "metadata": {},
     "output_type": "execute_result"
    }
   ],
   "source": [
    "df['Duracao_Sono_h_dia'].describe()"
   ]
  },
  {
   "cell_type": "markdown",
   "id": "c952b440",
   "metadata": {},
   "source": [
    "Qual a distribuição dos níveis de estresse relatados?"
   ]
  },
  {
   "cell_type": "code",
   "execution_count": 24,
   "id": "a1986d4c",
   "metadata": {},
   "outputs": [
    {
     "data": {
      "text/plain": [
       "Nivel_Estresse\n",
       "Medium    492\n",
       "Low       327\n",
       "High      181\n",
       "Name: count, dtype: int64"
      ]
     },
     "execution_count": 24,
     "metadata": {},
     "output_type": "execute_result"
    }
   ],
   "source": [
    "df['Nivel_Estresse'].value_counts() "
   ]
  },
  {
   "cell_type": "markdown",
   "id": "10fbfe06",
   "metadata": {},
   "source": [
    "Quantos estudantes se sentem ansiosos antes das provas?"
   ]
  },
  {
   "cell_type": "code",
   "execution_count": 25,
   "id": "a8e76900",
   "metadata": {},
   "outputs": [
    {
     "data": {
      "text/plain": [
       "Ansiedade_Antes_Provas\n",
       "Yes    513\n",
       "No     487\n",
       "Name: count, dtype: int64"
      ]
     },
     "execution_count": 25,
     "metadata": {},
     "output_type": "execute_result"
    }
   ],
   "source": [
    "df['Ansiedade_Antes_Provas'].value_counts()"
   ]
  },
  {
   "cell_type": "markdown",
   "id": "8fc6b5e8",
   "metadata": {},
   "source": [
    "Qual a distribuição das mudanças percebidas no desempenho acadêmico?"
   ]
  },
  {
   "cell_type": "code",
   "execution_count": 26,
   "id": "cddb17a4",
   "metadata": {},
   "outputs": [
    {
     "data": {
      "text/plain": [
       "Mudanca_Desempenho_Academico\n",
       "Same        399\n",
       "Improved    303\n",
       "Declined    298\n",
       "Name: count, dtype: int64"
      ]
     },
     "execution_count": 26,
     "metadata": {},
     "output_type": "execute_result"
    }
   ],
   "source": [
    "df['Mudanca_Desempenho_Academico'].value_counts()"
   ]
  },
  {
   "cell_type": "markdown",
   "id": "914de349",
   "metadata": {},
   "source": [
    "Qual a média, mediana e desvio padrão do tempo médio diário de tela durante o ensino online?"
   ]
  },
  {
   "cell_type": "code",
   "execution_count": 18,
   "id": "01096a11",
   "metadata": {},
   "outputs": [
    {
     "data": {
      "text/plain": [
       "count    1000.000000\n",
       "mean        6.909200\n",
       "std         2.907106\n",
       "min         2.000000\n",
       "25%         4.400000\n",
       "50%         6.900000\n",
       "75%         9.500000\n",
       "max        12.000000\n",
       "Name: Tempo_Tela_h_dia, dtype: float64"
      ]
     },
     "execution_count": 18,
     "metadata": {},
     "output_type": "execute_result"
    }
   ],
   "source": [
    "df['Tempo_Tela_h_dia'].describe()"
   ]
  },
  {
   "cell_type": "markdown",
   "id": "02f46174",
   "metadata": {},
   "source": [
    "### Visualização Gráfica dos Dados\n",
    "\n",
    "Além da análise numérica, a visualização gráfica é uma ferramenta essencial para compreender melhor os padrões e tendências presentes no conjunto de dados. A seguir, apresentaremos algumas representações visuais que facilitam a interpretação das informações coletadas, tornando a análise mais intuitiva e detalhada.\n"
   ]
  },
  {
   "cell_type": "markdown",
   "id": "867baef0",
   "metadata": {},
   "source": [
    "**Histograma da Prática de Atividade Física**\n",
    "\n",
    "A prática de atividade física semanal é um dos indicadores comportamentais analisados. No histograma abaixo, visualizamos a distribuição da quantidade de horas semanais dedicadas ao exercício físico pelos estudantes. A linha pontilhada vermelha representa a média geral.\n",
    "\n",
    "Essa visualização nos ajuda a entender quantos estudantes mantêm uma rotina ativa e como os valores se distribuem."
   ]
  },
  {
   "cell_type": "code",
   "execution_count": 34,
   "id": "e8be78c3",
   "metadata": {},
   "outputs": [
    {
     "data": {
      "image/png": "[encoded data removed]",
      "text/plain": [
       "<Figure size 1000x600 with 1 Axes>"
      ]
     },
     "metadata": {},
     "output_type": "display_data"
    }
   ],
   "source": [
    "import matplotlib.pyplot as plt\n",
    "\n",
    "# Dados\n",
    "dados = df['Atividade_Fisica_h_semana']\n",
    "\n",
    "# Criação do histograma\n",
    "plt.figure(figsize=(10, 6))\n",
    "plt.hist(dados, bins=10, color='skyblue', edgecolor='black')\n",
    "\n",
    "# Média\n",
    "media = dados.mean()\n",
    "plt.axvline(media, color='red', linestyle='--', label=f'Média: {media:.1f} h/semana')\n",
    "\n",
    "# Títulos e rótulos\n",
    "plt.title('Distribuição das Horas Semanais de Atividade Física')\n",
    "plt.xlabel('Horas por Semana')\n",
    "plt.ylabel('Quantidade de Estudantes')\n",
    "plt.legend()\n",
    "\n",
    "# Mostrar o gráfico\n",
    "plt.tight_layout()\n",
    "plt.show()\n"
   ]
  },
  {
   "cell_type": "markdown",
   "id": "d9f2691e",
   "metadata": {},
   "source": [
    "**Boxplot das Horas Semanais de Atividade Física**\n",
    "\n",
    "O gráfico abaixo apresenta um boxplot que representa a distribuição do tempo semanal dedicado à prática de atividade física pelos estudantes.\n",
    "\n",
    "Com ele, é possível identificar a mediana, a dispersão (quartis), além de valores extremos (outliers), oferecendo uma visão clara da variação nos hábitos de exercício físico dentro da amostra analisada.\n"
   ]
  },
  {
   "cell_type": "code",
   "execution_count": 37,
   "id": "de9dad93",
   "metadata": {},
   "outputs": [
    {
     "data": {
      "image/png": "[encoded data removed]",
      "text/plain": [
       "<Figure size 600x800 with 1 Axes>"
      ]
     },
     "metadata": {},
     "output_type": "display_data"
    }
   ],
   "source": [
    "# Dados\n",
    "dados = df['Atividade_Fisica_h_semana']\n",
    "\n",
    "# Criação do boxplot\n",
    "plt.figure(figsize=(6, 8))\n",
    "plt.boxplot(dados, vert=True, patch_artist=True, boxprops=dict(facecolor='lightblue'))\n",
    "\n",
    "# Títulos e rótulos\n",
    "plt.title('Boxplot das Horas Semanais de Atividade Física')\n",
    "plt.ylabel('Horas por Semana')\n",
    "\n",
    "# Mostrar o gráfico\n",
    "plt.grid(True)\n",
    "plt.tight_layout()\n",
    "plt.show()\n"
   ]
  },
  {
   "cell_type": "markdown",
   "id": "ebb199c0",
   "metadata": {},
   "source": [
    "**Boxplot do Tempo Médio Diário de Tela**\n",
    "\n",
    "O gráfico abaixo apresenta a distribuição do tempo médio diário que os estudantes passaram em frente a telas durante o período de ensino online.\n",
    "\n",
    "Além do boxplot, foram calculadas as seguintes medidas descritivas:\n",
    "\n",
    "- **Média:** aproximadamente 6.91 h/dia\n",
    "- **Mediana:** aproximadamente 6.90 h/dia\n",
    "- **Desvio padrão:** aproximadamente 2.91 h/dia\n",
    "\n",
    "Essas informações ajudam a compreender a intensidade de exposição digital entre os estudantes e sua possível relação com a saúde mental.\n",
    "\n"
   ]
  },
  {
   "cell_type": "code",
   "execution_count": 36,
   "id": "3c593f3e",
   "metadata": {},
   "outputs": [
    {
     "name": "stdout",
     "output_type": "stream",
     "text": [
      "Média: 6.91 h/dia\n",
      "Mediana: 6.90 h/dia\n",
      "Desvio padrão: 2.91 h/dia\n"
     ]
    },
    {
     "data": {
      "image/png": "[encoded data removed]",
      "text/plain": [
       "<Figure size 600x800 with 1 Axes>"
      ]
     },
     "metadata": {},
     "output_type": "display_data"
    }
   ],
   "source": [
    "# Dados\n",
    "dados_tela = df['Tempo_Tela_h_dia']\n",
    "\n",
    "# Estatísticas descritivas\n",
    "media = dados_tela.mean()\n",
    "mediana = dados_tela.median()\n",
    "desvio = dados_tela.std()\n",
    "\n",
    "# Exibição dos valores\n",
    "print(f\"Média: {media:.2f} h/dia\")\n",
    "print(f\"Mediana: {mediana:.2f} h/dia\")\n",
    "print(f\"Desvio padrão: {desvio:.2f} h/dia\")\n",
    "\n",
    "# Criação do boxplot\n",
    "plt.figure(figsize=(6, 8))\n",
    "plt.boxplot(dados_tela, vert=True, patch_artist=True, boxprops=dict(facecolor='lightgreen'))\n",
    "\n",
    "# Títulos e rótulos\n",
    "plt.title('Boxplot do Tempo Médio Diário de Tela (h/dia)')\n",
    "plt.ylabel('Horas por Dia')\n",
    "\n",
    "# Mostrar o gráfico\n",
    "plt.grid(True)\n",
    "plt.tight_layout()\n",
    "plt.show()\n"
   ]
  },
  {
   "cell_type": "markdown",
   "id": "37c83598",
   "metadata": {},
   "source": [
    "## 3. Tratamento de dados categóricos"
   ]
  },
  {
   "cell_type": "markdown",
   "id": "3ee39a3a",
   "metadata": {},
   "source": [
    "**Importante!** Algumas variáveis do conjunto de dados são do tipo object, ou seja, categóricas. Para aplicar técnicas de Aprendizado de Máquina, é necessário convertê-las para uma representação numérica.\n",
    "\n",
    "Será utilizada a ferramenta LabelEncoder da biblioteca scikit-learn para transformar essas variáveis, respeitando o seguinte processo:\n",
    "\n",
    "1. Inicialização do codificador.\n",
    "2. Transformação de cada variável categórica individualmente.\n",
    "3. Armazenamento do mapeamento entre os rótulos originais e os valores numéricos.\n",
    "\n",
    "Variáveis a ser transformadas:\n",
    "\n",
    "\n",
    "| Genero                           |\n",
    "| Nivel_Academico                  |\n",
    "| Nivel_Estresse                   |\n",
    "| Ansiedade_Antes_Provas           |\n",
    "| Mudanca_Desempenho_Academico     |\n",
    "\n",
    "\n",
    "Para cada uma delas, será criado um dicionário de mapeamento, o que permite manter a interpretação dos dados após a transformação.\n",
    "\n",
    "Esse processo garante que o conjunto de dados esteja pronto para futuras análises estatísticas ou modelos de predição.\n"
   ]
  },
  {
   "cell_type": "code",
   "execution_count": 38,
   "id": "861a7aea",
   "metadata": {},
   "outputs": [
    {
     "name": "stdout",
     "output_type": "stream",
     "text": [
      "Mapeamento para 'Genero': {'Female': np.int64(0), 'Male': np.int64(1), 'Other': np.int64(2)}\n",
      "Mapeamento para 'Nivel_Academico': {'BA': np.int64(0), 'BSc': np.int64(1), 'BTech': np.int64(2), 'Class 10': np.int64(3), 'Class 11': np.int64(4), 'Class 12': np.int64(5), 'Class 8': np.int64(6), 'Class 9': np.int64(7), 'MA': np.int64(8), 'MSc': np.int64(9), 'MTech': np.int64(10)}\n",
      "Mapeamento para 'Nivel_Estresse': {'High': np.int64(0), 'Low': np.int64(1), 'Medium': np.int64(2)}\n",
      "Mapeamento para 'Ansiedade_Antes_Provas': {'No': np.int64(0), 'Yes': np.int64(1)}\n",
      "Mapeamento para 'Mudanca_Desempenho_Academico': {'Declined': np.int64(0), 'Improved': np.int64(1), 'Same': np.int64(2)}\n"
     ]
    }
   ],
   "source": [
    "from sklearn.preprocessing import LabelEncoder\n",
    "\n",
    "# Inicializar o codificador\n",
    "encoder = LabelEncoder()\n",
    "\n",
    "# Transformar e mapear as variáveis categóricas\n",
    "# 1. Gênero\n",
    "df['Genero'] = encoder.fit_transform(df['Genero'])\n",
    "mapeamento_genero = dict(zip(encoder.classes_, encoder.transform(encoder.classes_)))\n",
    "print(\"Mapeamento para 'Genero':\", mapeamento_genero)\n",
    "\n",
    "# 2. Nível Acadêmico\n",
    "df['Nivel_Academico'] = encoder.fit_transform(df['Nivel_Academico'])\n",
    "mapeamento_nivel = dict(zip(encoder.classes_, encoder.transform(encoder.classes_)))\n",
    "print(\"Mapeamento para 'Nivel_Academico':\", mapeamento_nivel)\n",
    "\n",
    "# 3. Nível de Estresse\n",
    "df['Nivel_Estresse'] = encoder.fit_transform(df['Nivel_Estresse'])\n",
    "mapeamento_estresse = dict(zip(encoder.classes_, encoder.transform(encoder.classes_)))\n",
    "print(\"Mapeamento para 'Nivel_Estresse':\", mapeamento_estresse)\n",
    "\n",
    "# 4. Ansiedade Antes das Provas\n",
    "df['Ansiedade_Antes_Provas'] = encoder.fit_transform(df['Ansiedade_Antes_Provas'])\n",
    "mapeamento_ansiedade = dict(zip(encoder.classes_, encoder.transform(encoder.classes_)))\n",
    "print(\"Mapeamento para 'Ansiedade_Antes_Provas':\", mapeamento_ansiedade)\n",
    "\n",
    "# 5. Mudança no Desempenho Acadêmico\n",
    "df['Mudanca_Desempenho_Academico'] = encoder.fit_transform(df['Mudanca_Desempenho_Academico'])\n",
    "mapeamento_desempenho = dict(zip(encoder.classes_, encoder.transform(encoder.classes_)))\n",
    "print(\"Mapeamento para 'Mudanca_Desempenho_Academico':\", mapeamento_desempenho)"
   ]
  },
  {
   "cell_type": "code",
   "execution_count": 39,
   "id": "56cd63f6",
   "metadata": {},
   "outputs": [
    {
     "data": {
      "application/vnd.microsoft.datawrangler.viewer.v0+json": {
       "columns": [
        {
         "name": "index",
         "rawType": "int64",
         "type": "integer"
        },
        {
         "name": "Genero",
         "rawType": "int64",
         "type": "integer"
        },
        {
         "name": "Idade",
         "rawType": "int64",
         "type": "integer"
        },
        {
         "name": "Nivel_Academico",
         "rawType": "int64",
         "type": "integer"
        },
        {
         "name": "Tempo_Tela_h_dia",
         "rawType": "float64",
         "type": "float"
        },
        {
         "name": "Duracao_Sono_h_dia",
         "rawType": "float64",
         "type": "float"
        },
        {
         "name": "Atividade_Fisica_h_semana",
         "rawType": "float64",
         "type": "float"
        },
        {
         "name": "Nivel_Estresse",
         "rawType": "int64",
         "type": "integer"
        },
        {
         "name": "Ansiedade_Antes_Provas",
         "rawType": "int64",
         "type": "integer"
        },
        {
         "name": "Mudanca_Desempenho_Academico",
         "rawType": "int64",
         "type": "integer"
        }
       ],
       "conversionMethod": "pd.DataFrame",
       "ref": "6f68427d-adb9-4817-a45b-b310bfa9d3bc",
       "rows": [
        [
         "0",
         "1",
         "15",
         "6",
         "7.1",
         "8.9",
         "9.3",
         "2",
         "0",
         "2"
        ],
        [
         "1",
         "0",
         "25",
         "9",
         "3.3",
         "5.0",
         "0.2",
         "2",
         "0",
         "2"
        ],
        [
         "2",
         "1",
         "20",
         "2",
         "9.5",
         "5.4",
         "6.2",
         "2",
         "0",
         "2"
        ],
        [
         "3",
         "1",
         "20",
         "0",
         "10.8",
         "5.6",
         "5.5",
         "0",
         "1",
         "2"
        ],
        [
         "4",
         "0",
         "17",
         "4",
         "2.8",
         "5.4",
         "3.1",
         "2",
         "1",
         "2"
        ]
       ],
       "shape": {
        "columns": 9,
        "rows": 5
       }
      },
      "text/html": [
       "<div>\n",
       "<style scoped>\n",
       "    .dataframe tbody tr th:only-of-type {\n",
       "        vertical-align: middle;\n",
       "    }\n",
       "\n",
       "    .dataframe tbody tr th {\n",
       "        vertical-align: top;\n",
       "    }\n",
       "\n",
       "    .dataframe thead th {\n",
       "        text-align: right;\n",
       "    }\n",
       "</style>\n",
       "<table border=\"1\" class=\"dataframe\">\n",
       "  <thead>\n",
       "    <tr style=\"text-align: right;\">\n",
       "      <th></th>\n",
       "      <th>Genero</th>\n",
       "      <th>Idade</th>\n",
       "      <th>Nivel_Academico</th>\n",
       "      <th>Tempo_Tela_h_dia</th>\n",
       "      <th>Duracao_Sono_h_dia</th>\n",
       "      <th>Atividade_Fisica_h_semana</th>\n",
       "      <th>Nivel_Estresse</th>\n",
       "      <th>Ansiedade_Antes_Provas</th>\n",
       "      <th>Mudanca_Desempenho_Academico</th>\n",
       "    </tr>\n",
       "  </thead>\n",
       "  <tbody>\n",
       "    <tr>\n",
       "      <th>0</th>\n",
       "      <td>1</td>\n",
       "      <td>15</td>\n",
       "      <td>6</td>\n",
       "      <td>7.1</td>\n",
       "      <td>8.9</td>\n",
       "      <td>9.3</td>\n",
       "      <td>2</td>\n",
       "      <td>0</td>\n",
       "      <td>2</td>\n",
       "    </tr>\n",
       "    <tr>\n",
       "      <th>1</th>\n",
       "      <td>0</td>\n",
       "      <td>25</td>\n",
       "      <td>9</td>\n",
       "      <td>3.3</td>\n",
       "      <td>5.0</td>\n",
       "      <td>0.2</td>\n",
       "      <td>2</td>\n",
       "      <td>0</td>\n",
       "      <td>2</td>\n",
       "    </tr>\n",
       "    <tr>\n",
       "      <th>2</th>\n",
       "      <td>1</td>\n",
       "      <td>20</td>\n",
       "      <td>2</td>\n",
       "      <td>9.5</td>\n",
       "      <td>5.4</td>\n",
       "      <td>6.2</td>\n",
       "      <td>2</td>\n",
       "      <td>0</td>\n",
       "      <td>2</td>\n",
       "    </tr>\n",
       "    <tr>\n",
       "      <th>3</th>\n",
       "      <td>1</td>\n",
       "      <td>20</td>\n",
       "      <td>0</td>\n",
       "      <td>10.8</td>\n",
       "      <td>5.6</td>\n",
       "      <td>5.5</td>\n",
       "      <td>0</td>\n",
       "      <td>1</td>\n",
       "      <td>2</td>\n",
       "    </tr>\n",
       "    <tr>\n",
       "      <th>4</th>\n",
       "      <td>0</td>\n",
       "      <td>17</td>\n",
       "      <td>4</td>\n",
       "      <td>2.8</td>\n",
       "      <td>5.4</td>\n",
       "      <td>3.1</td>\n",
       "      <td>2</td>\n",
       "      <td>1</td>\n",
       "      <td>2</td>\n",
       "    </tr>\n",
       "  </tbody>\n",
       "</table>\n",
       "</div>"
      ],
      "text/plain": [
       "   Genero  Idade  Nivel_Academico  Tempo_Tela_h_dia  Duracao_Sono_h_dia  \\\n",
       "0       1     15                6               7.1                 8.9   \n",
       "1       0     25                9               3.3                 5.0   \n",
       "2       1     20                2               9.5                 5.4   \n",
       "3       1     20                0              10.8                 5.6   \n",
       "4       0     17                4               2.8                 5.4   \n",
       "\n",
       "   Atividade_Fisica_h_semana  Nivel_Estresse  Ansiedade_Antes_Provas  \\\n",
       "0                        9.3               2                       0   \n",
       "1                        0.2               2                       0   \n",
       "2                        6.2               2                       0   \n",
       "3                        5.5               0                       1   \n",
       "4                        3.1               2                       1   \n",
       "\n",
       "   Mudanca_Desempenho_Academico  \n",
       "0                             2  \n",
       "1                             2  \n",
       "2                             2  \n",
       "3                             2  \n",
       "4                             2  "
      ]
     },
     "execution_count": 39,
     "metadata": {},
     "output_type": "execute_result"
    }
   ],
   "source": [
    "df.head()"
   ]
  },
  {
   "cell_type": "code",
   "execution_count": 41,
   "id": "a610c249",
   "metadata": {},
   "outputs": [
    {
     "data": {
      "text/plain": [
       "Genero                            int64\n",
       "Idade                             int64\n",
       "Nivel_Academico                   int64\n",
       "Tempo_Tela_h_dia                float64\n",
       "Duracao_Sono_h_dia              float64\n",
       "Atividade_Fisica_h_semana       float64\n",
       "Nivel_Estresse                    int64\n",
       "Ansiedade_Antes_Provas            int64\n",
       "Mudanca_Desempenho_Academico      int64\n",
       "dtype: object"
      ]
     },
     "execution_count": 41,
     "metadata": {},
     "output_type": "execute_result"
    }
   ],
   "source": [
    "# Verificação se todas as variáveis são numéricas\n",
    "df.dtypes"
   ]
  },
  {
   "cell_type": "markdown",
   "id": "2e36f1cf",
   "metadata": {},
   "source": [
    "## 4. Salvando a base de dados limpa"
   ]
  },
  {
   "cell_type": "code",
   "execution_count": 42,
   "id": "01d0ea81",
   "metadata": {},
   "outputs": [
    {
     "name": "stdout",
     "output_type": "stream",
     "text": [
      "DataFrame salvo com sucesso em: ../datasets/dados_modificados.csv\n"
     ]
    }
   ],
   "source": [
    "# Salvar o DataFrame modificado em um novo arquivo CSV\n",
    "\n",
    "caminho_arquivo = '../datasets/dados_modificados.csv'\n",
    "df.to_csv(caminho_arquivo, index=False, encoding='utf-8-sig')\n",
    "print(f\"DataFrame salvo com sucesso em: {caminho_arquivo}\")"
   ]
  }
 ],
 "metadata": {
  "kernelspec": {
   "display_name": "Python 3",
   "language": "python",
   "name": "python3"
  },
  "language_info": {
   "codemirror_mode": {
    "name": "ipython",
    "version": 3
   },
   "file_extension": ".py",
   "mimetype": "text/x-python",
   "name": "python",
   "nbconvert_exporter": "python",
   "pygments_lexer": "ipython3",
   "version": "3.12.10"
  }
 },
 "nbformat": 4,
 "nbformat_minor": 5
}
